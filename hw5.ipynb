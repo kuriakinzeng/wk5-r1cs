{
 "cells": [
  {
   "cell_type": "markdown",
   "id": "8c46a762-2d03-41c6-9538-ffe3916ddc16",
   "metadata": {},
   "source": [
    "### Problem 1: Compute the rank 1 constraint system for the following:\n",
    "```\n",
    "fn main(x: field, y: field) -> field {\n",
    "  return 5*x**3 - 4*y**2*x**2 + 13*x*y**2 + x**2 - 10*y\n",
    "}\n",
    "```\n",
    "which is essentially $out = 5x^3 - 4x^2y^2 + 13xy^2 + x^2 - 10y$"
   ]
  },
  {
   "cell_type": "markdown",
   "id": "235d0bce-d5a8-46b7-8065-808e7004fbbf",
   "metadata": {},
   "source": [
    "We observe that we get 10y for free (1 multiplication per constraint): $out + 10y = 5x^3 - 4x^2y^2 + 13xy^2 - x^2$ \n",
    "\n",
    "We then define the constraints as\n",
    "1. $v_1 = x * x$\n",
    "2. $v_2 = y * y$\n",
    "3. $v_3 = v_1 * x$\n",
    "4. $v_4 = v_1 * v_2$\n",
    "5. $out - 5v_3 + 4v_4 + v_1 + 10y = 13xv_2$\n",
    "\n",
    "and the witness $\\vec{w} = \\begin{bmatrix} 1 \\ out \\ x \\ y \\ v_1 \\ v_2 \\ v_3 \\ v_4 \\end{bmatrix}$\n",
    "\n",
    "Now, we transform it into R1CS: $C\\vec{w} = A\\vec{w} B\\vec{w}$"
   ]
  },
  {
   "cell_type": "markdown",
   "id": "11f62eae-f9e8-402a-ad7f-b6bfb915df3a",
   "metadata": {},
   "source": [
    "Since we have 3 constraints, so do the matrices:\n",
    "A is the left hand side of the constraints: $A = \n",
    "\\begin{bmatrix}\n",
    "0 & 0 & 1 & 0 & 0 & 0 & 0 & 0 \\\\\\ \n",
    "0 & 0 & 0 & 1 & 0 & 0 & 0 & 0 \\\\\\ \n",
    "0 & 0 & 0 & 0 & 1 & 0 & 0 & 0 \\\\\\\n",
    "0 & 0 & 0 & 0 & 1 & 0 & 0 & 0 \\\\\\\n",
    "0 & 0 & 13 & 0 & 0 & 0 & 0 & 0\n",
    "\\end{bmatrix}\n",
    "$\n",
    "\n",
    "B is the right hand side of the constraints: $B = \\begin{bmatrix} \n",
    "0 & 0 & 1 & 0 & 0 & 0 & 0 & 0 \\\\\\ \n",
    "0 & 0 & 0 & 1 & 0 & 0 & 0 & 0 \\\\\\ \n",
    "0 & 0 & 1 & 0 & 0 & 0 & 0 & 0 \\\\\\\n",
    "0 & 0 & 0 & 0 & 0 & 1 & 0 & 0 \\\\\\\n",
    "0 & 0 & 0 & 0 & 0 & 1 & 0 & 0\n",
    "\\end{bmatrix}$ \n",
    "\n",
    "C is the result $C = \\begin{bmatrix} \n",
    "0 & 0 & 0 & 0 & 1 & 0 & 0 & 0 \\\\\\ \n",
    "0 & 0 & 0 & 0 & 0 & 1 & 0 & 0 \\\\\\ \n",
    "0 & 0 & 0 & 0 & 0 & 0 & 1 & 0 \\\\\\\n",
    "0 & 0 & 0 & 0 & 0 & 0 & 0 & 1 \\\\\\\n",
    "0 & 1 & 0 & 10 & 1 & 0 & -5 & 4\n",
    "\\end{bmatrix} $"
   ]
  },
  {
   "cell_type": "markdown",
   "id": "80d39636-3bb1-4cc8-8d4d-5ca82448b532",
   "metadata": {},
   "source": [
    "### Problem 2: Compute the rank 1 constraint system for the following:\n",
    "\n",
    "```\n",
    "fn main(x: field, y: field) -> field {\n",
    "  assert!(y == 0 || y == 1 || y == 2);\n",
    "  if (y == 0) {\n",
    "\t\treturn x; \n",
    "\t}\n",
    "\telse if (y == 1) {\n",
    "\t  return x**2;\n",
    "\t} \n",
    "\telse {\n",
    "\t  return x**3;\n",
    "\t}\n",
    "}\n",
    "```\n",
    "\n",
    "Hint: can you represent the assert statement as a polynomial?\n",
    "\n",
    "Hint: can you construct a polynomial for the if-else-if-else statement using a more\n",
    "general construction than the if-else we showed in class?"
   ]
  },
  {
   "cell_type": "markdown",
   "id": "d5d785ff-0983-4a9b-a8f3-a08c2e539126",
   "metadata": {},
   "source": [
    "The assert function is essentially $(y-0)(y-1)(y-2) = 0$. To represent the if-else-if-else statement, we can use a construct: $out = ax + bx^2 + cx^3$, where:\n",
    "- $ a = \\frac{(y-1)(y-2)}{(0-1)(0-2)} $ which results in 1 when $y=0$\n",
    "- $ b = \\frac{(y-0)(y-2)}{(1-0)(1-2)} $ which results in 1 when $y=1$\n",
    "- $ c = \\frac{(y-0)(y-1)}{(2-0)(2-1)} $ which results in 1 when $y=2$\n",
    "\n",
    "The idea is that for a specific y, e.g. $y=1$, we exclude the factor in $(y-0)(y-1)(y-2)$ that results in 0 from the numerator. In this case, we exclude $y-1$. Then, with the remaining factors $(y-0)(y-2)$, we evaluate them at $y=1$.\n",
    "\n",
    "Thus the final expression is: $out = \\frac{(y-1)(y-2)}{2} \\cdot x + \\frac{(y-0)(y-2)}{-1} \\cdot x^2 + \\frac{(y-0)(y-1)}{2} \\cdot x^3$\n",
    "\n",
    "which can be rewritten as $2*out = y^2x -3xy + 2x - 2x^2y^2 + 4x^2y + x^3y^2 - x^3y$"
   ]
  },
  {
   "cell_type": "markdown",
   "id": "e8a4820c-4c09-4ad2-b477-618b3bbb3725",
   "metadata": {},
   "source": [
    "The assert function can be rewritten as $y^3 - 3y^2 + 2y = 0$. Let $v_1 = y^2$ we get $3v_1 - 2y = v_1y$"
   ]
  },
  {
   "cell_type": "markdown",
   "id": "c2b30f55-861b-48ac-adab-b03f395c7bc9",
   "metadata": {},
   "source": [
    "Let $v_2 = xy$. Then $2 * out = v_2y - 3v_2 + 2x - 2v_2^2 + 4v_2x + v_2^2x - v_2x^2$ which is $2 * out = v_2 (y - 2v_2 + 4x + v_2x - x^2) - 3v_2 + 2x$"
   ]
  },
  {
   "cell_type": "markdown",
   "id": "fff09ece-7336-4b0a-b9aa-e94fbda93007",
   "metadata": {},
   "source": [
    "Let $v_3 = v_2x$. Then $2 * out = v_2 (y - 2v_2 + 4x + v_3 - x^2) - 3v_2 + 2x$"
   ]
  },
  {
   "cell_type": "markdown",
   "id": "2e6969d6-5bce-4b81-907e-1acbec6b490b",
   "metadata": {},
   "source": [
    "Let $v_4 = y - 2v_2 + 4x + v_3 - x^2$. Then $2 * out + 3v_2 - 2x = v_2 v_4$"
   ]
  },
  {
   "cell_type": "markdown",
   "id": "9e3adb54-b13a-4724-919b-668090d4dc91",
   "metadata": {},
   "source": [
    "To recap\n",
    "1. $v_1 = y * y$\n",
    "2. $-2y + 3v_1 = v_1y$\n",
    "3. $v_2 = x * y$\n",
    "4. $v_3 = v_2 * x$\n",
    "5. $4x + y - 2v_2 + v_3 - v_4 = x * x$\n",
    "7. $2out - 2x + 3v_2 = v_2 v_4$\n",
    "\n",
    "and the witness $\\vec{w} = \\begin{bmatrix} 1 \\ out \\ x \\ y \\ v_1 \\ v_2 \\ v_3 \\ v_4 \\end{bmatrix}$\n"
   ]
  },
  {
   "cell_type": "markdown",
   "id": "2ab7d244-a48d-4d80-a3fb-212ebcd1099d",
   "metadata": {},
   "source": [
    "$A = \n",
    "\\begin{bmatrix}\n",
    "0 & 0 & 0 & 1 & 0 & 0 & 0 & 0 \\\\\\ \n",
    "0 & 0 & 0 & 0 & 1 & 0 & 0 & 0 \\\\\\ \n",
    "0 & 0 & 1 & 0 & 0 & 0 & 0 & 0 \\\\\\\n",
    "0 & 0 & 0 & 0 & 0 & 1 & 0 & 0 \\\\\\\n",
    "0 & 0 & 1 & 0 & 0 & 0 & 0 & 0 \\\\\\\n",
    "0 & 0 & 0 & 0 & 0 & 1 & 0 & 0\n",
    "\\end{bmatrix}\n",
    "$\n",
    "$B = \n",
    "\\begin{bmatrix}\n",
    "0 & 0 & 0 & 1 & 0 & 0 & 0 & 0 \\\\\\ \n",
    "0 & 0 & 0 & 1 & 0 & 0 & 0 & 0 \\\\\\ \n",
    "0 & 0 & 0 & 1 & 0 & 0 & 0 & 0 \\\\\\\n",
    "0 & 0 & 1 & 0 & 0 & 0 & 0 & 0 \\\\\\\n",
    "0 & 0 & 1 & 0 & 0 & 0 & 0 & 0 \\\\\\\n",
    "0 & 0 & 0 & 0 & 0 & 0 & 0 & 1\n",
    "\\end{bmatrix}\n",
    "$\n",
    "$C = \n",
    "\\begin{bmatrix}\n",
    "0 & 0 & 0 & 0 & 1 & 0 & 0 & 0 \\\\\\ \n",
    "0 & 0 & 0 & -2 & 3 & 0 & 0 & 0 \\\\\\ \n",
    "0 & 0 & 0 & 0 & 0 & 1 & 0 & 0 \\\\\\\n",
    "0 & 0 & 0 & 0 & 0 & 0 & 1 & 0 \\\\\\\n",
    "0 & 0 & 4 & 1 & 0 & -2 & 1 & -1 \\\\\\\n",
    "0 & 2 & -2 & 0 & 0 & 3 & 0 & 0\n",
    "\\end{bmatrix}\n",
    "$"
   ]
  },
  {
   "cell_type": "markdown",
   "id": "8ccadeff-f645-495a-bc01-13b0ae740d33",
   "metadata": {},
   "source": [
    "## Problem 3"
   ]
  },
  {
   "cell_type": "code",
   "execution_count": 195,
   "id": "fddff06b-28e1-4c40-86e8-eaa62b9deebb",
   "metadata": {},
   "outputs": [],
   "source": [
    "# Compute everything in mod prime p\n",
    "p = 23\n",
    "def verify_r1cs(A, B, C, w):\n",
    "    return all(el == 0 for el in np.multiply(A.dot(w) % p, B.dot(w) % p) % p - C.dot(w) % p)"
   ]
  },
  {
   "cell_type": "code",
   "execution_count": 196,
   "id": "526511af-8df8-4daf-b071-0e2e839acad8",
   "metadata": {},
   "outputs": [
    {
     "data": {
      "text/plain": [
       "True"
      ]
     },
     "execution_count": 196,
     "metadata": {},
     "output_type": "execute_result"
    }
   ],
   "source": [
    "# For Problem 1\n",
    "import numpy as np\n",
    "import random\n",
    "\n",
    "A = np.array([\n",
    " [ 0,  0,  1,  0,  0,  0,  0,  0],\n",
    " [ 0,  0,  0,  1,  0,  0,  0,  0],\n",
    " [ 0,  0,  0,  0,  1,  0,  0,  0],\n",
    " [ 0,  0,  0,  0,  1,  0,  0,  0],\n",
    " [ 0,  0, 13,  0,  0,  0,  0,  0]\n",
    "]);\n",
    "B = np.array([[0, 0, 1, 0, 0, 0, 0, 0],\n",
    " [0, 0, 0, 1, 0, 0, 0, 0],\n",
    " [0, 0, 1, 0, 0, 0, 0, 0],\n",
    " [0, 0, 0, 0, 0, 1, 0, 0],\n",
    " [0, 0, 0, 0, 0, 1, 0, 0]]);\n",
    "C= np.array([[ 0,  0,  0,  0,  1,  0,  0,  0],\n",
    " [ 0,  0,  0,  0,  0,  1,  0,  0],\n",
    " [ 0,  0,  0,  0,  0,  0,  1,  0],\n",
    " [ 0,  0,  0,  0,  0,  0,  0,  1],\n",
    " [ 0,  1,  0, 10, 1,  0, -5,  4]]);\n",
    "\n",
    "x = random.randint(1,1000)\n",
    "y = random.randint(1,1000)\n",
    "\n",
    "v1 = x * x % p\n",
    "v2 = y * y % p\n",
    "v3 = v1 * x % p\n",
    "v4 = v1 * v2 % p\n",
    "out = 5*v3 - 4*v4 - v1 - 10*y + 13*x*v2 % p\n",
    "w = np.array([1, out, x, y, v1, v2, v3, v4]);\n",
    "\n",
    "verify_r1cs(A, B, C, w)"
   ]
  },
  {
   "cell_type": "code",
   "execution_count": 193,
   "id": "96d0ae7f-548e-49ce-b7f2-b4712f001f1f",
   "metadata": {},
   "outputs": [
    {
     "data": {
      "text/plain": [
       "True"
      ]
     },
     "execution_count": 193,
     "metadata": {},
     "output_type": "execute_result"
    }
   ],
   "source": [
    "# For Problem 2\n",
    "A = np.array([\n",
    "[0, 0, 0, 1, 0, 0, 0, 0],\n",
    " [0, 0, 0, 0, 1, 0, 0, 0],\n",
    " [0, 0, 1, 0, 0, 0, 0, 0],\n",
    " [0, 0, 0, 0, 0, 1, 0, 0],\n",
    " [0, 0, 1, 0, 0, 0, 0, 0],\n",
    " [0, 0, 0, 0, 0, 1, 0, 0]\n",
    "]);\n",
    "B = np.array([\n",
    " [0, 0, 0, 1, 0, 0, 0, 0],\n",
    " [0, 0, 0, 1, 0, 0, 0, 0],\n",
    " [0, 0, 0, 1, 0, 0, 0, 0],\n",
    " [0, 0, 1, 0, 0, 0, 0, 0],\n",
    " [0, 0, 1, 0, 0, 0, 0, 0],\n",
    " [0, 0, 0, 0, 0, 0, 0, 1]\n",
    "]);\n",
    "C= np.array([\n",
    " [ 0,  0,  0,  0,  1,  0,  0,  0],\n",
    " [ 0,  0,  0,  -2, 3,  0,  0,  0],\n",
    " [ 0,  0,  0,  0,  0,  1,  0,  0],\n",
    " [ 0,  0,  0,  0,  0,  0,  1,  0],\n",
    " [ 0,  0, 4, 1,  0,  -2, 1,  -1],\n",
    " [ 0,  2, -2,  0,  0,  3,  0,  0]\n",
    "]);\n",
    "\n",
    "x = random.randint(1,1000)\n",
    "y = random.randint(0,2)\n",
    "\n",
    "half = pow(2,-1,p)\n",
    "v1 = (y * y) % p\n",
    "# this is wrong because we're redefining y, perhaps it can only be asserted\n",
    "# y = ((3*v1 + v1*y) * half) % p \n",
    "v2 = (x * y) % p\n",
    "v3 = (v2 * x) % p\n",
    "v4 = (4*x + y - 2*v2 + v3 - x * x) % p\n",
    "out = ((2*x - 3*v2 + v2*v4)*half) % p\n",
    "w = np.array([1, out, x, y, v1, v2, v3, v4]);\n",
    "\n",
    "verify_r1cs(A, B, C, w)"
   ]
  }
 ],
 "metadata": {
  "kernelspec": {
   "display_name": "Python 3 (ipykernel)",
   "language": "python",
   "name": "python3"
  },
  "language_info": {
   "codemirror_mode": {
    "name": "ipython",
    "version": 3
   },
   "file_extension": ".py",
   "mimetype": "text/x-python",
   "name": "python",
   "nbconvert_exporter": "python",
   "pygments_lexer": "ipython3",
   "version": "3.11.5"
  }
 },
 "nbformat": 4,
 "nbformat_minor": 5
}
